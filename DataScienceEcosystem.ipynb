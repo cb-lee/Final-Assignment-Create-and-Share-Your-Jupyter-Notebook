{
  "metadata": {
    "kernelspec": {
      "name": "python",
      "display_name": "Python (Pyodide)",
      "language": "python"
    },
    "language_info": {
      "codemirror_mode": {
        "name": "python",
        "version": 3
      },
      "file_extension": ".py",
      "mimetype": "text/x-python",
      "name": "python",
      "nbconvert_exporter": "python",
      "pygments_lexer": "ipython3",
      "version": "3.8"
    }
  },
  "nbformat_minor": 5,
  "nbformat": 4,
  "cells": [
    {
      "id": "dcd98649-77d7-46ae-8ad4-f5a362fb28eb",
      "cell_type": "markdown",
      "source": "# Data Science Tools and Ecosystem",
      "metadata": {}
    },
    {
      "id": "2a4a37b0-1efa-48a7-8130-ece3e60e70b0",
      "cell_type": "markdown",
      "source": "In this notebook, Data Science Tools and Ecosystem are summarized.",
      "metadata": {}
    },
    {
      "id": "9367c0df-a0e0-4529-874d-e6655b8e8963",
      "cell_type": "markdown",
      "source": "**Objectives:**\n\n- List of popular languages for Data Science\n- List of commonly used libraries used by Data Scientists\n- List of open source development environment tools used in Data Science\n- Examples of arithmetic expressions in Python\n",
      "metadata": {}
    },
    {
      "id": "dd5a6f2b-f93e-4602-8619-9d64073a53d0",
      "cell_type": "markdown",
      "source": "Some of the popular languages that Data Scientists use are:\n\n1. Python\n2. R\n3. SQL",
      "metadata": {}
    },
    {
      "id": "38088318-21e3-4fce-966f-36100663eafd",
      "cell_type": "markdown",
      "source": "Some of the commonly used libraries used by Data Scientists include:\n\n1. NumPy\n2. Pandas\n3. TensorFlow\n",
      "metadata": {}
    },
    {
      "id": "a62c3496-9a64-40ab-8a18-93c9817ea3b6",
      "cell_type": "markdown",
      "source": "| Data Science Tools |\n|------------------- |\n| Jupyter Notebook |\n| RStudio|\n| VS Code |\n",
      "metadata": {}
    },
    {
      "id": "75ad0483-b226-480d-b3b4-d0d3a5e9b6e4",
      "cell_type": "markdown",
      "source": "### Below are a few examples of evaluating arithmetic expressions in Python",
      "metadata": {}
    },
    {
      "id": "95fc3509-2bb8-47d5-bbe3-7d937119a55c",
      "cell_type": "code",
      "source": "#This a simple arithmetic expression to mutiply then add integers\n(3*4)+5",
      "metadata": {
        "trusted": true
      },
      "outputs": [
        {
          "execution_count": 1,
          "output_type": "execute_result",
          "data": {
            "text/plain": "17"
          },
          "metadata": {}
        }
      ],
      "execution_count": 1
    },
    {
      "id": "cbdfd681-4a9f-4538-9c05-76dc8e81e3db",
      "cell_type": "code",
      "source": "#This will convert 200 minutes to hours by diving by 60\nminutes = 200\nhours = minutes / 60\nprint(hours)",
      "metadata": {
        "trusted": true
      },
      "outputs": [
        {
          "name": "stdout",
          "output_type": "stream",
          "text": "3.3333333333333335\n"
        }
      ],
      "execution_count": 2
    },
    {
      "id": "2ef4cb8d-af0b-44fb-9481-a34defaf9623",
      "cell_type": "markdown",
      "source": "## Author\nChristopher Lee",
      "metadata": {}
    },
    {
      "id": "230aa632-107f-46fa-8976-20161ba1e3b2",
      "cell_type": "code",
      "source": "",
      "metadata": {
        "trusted": true
      },
      "outputs": [],
      "execution_count": null
    }
  ]
}